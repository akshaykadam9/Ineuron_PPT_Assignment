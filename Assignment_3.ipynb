{
 "cells": [
  {
   "cell_type": "markdown",
   "id": "c25b8889",
   "metadata": {},
   "source": [
    "Question 1\n",
    "Given an integer array nums of length n and an integer target, find three integers in nums such that the sum is closest to the target.\n",
    "Return the sum of the three integers.\n",
    "\n",
    "\n",
    "You may assume that each input would have exactly one solution.\n",
    "Example 1:\n",
    "Input: nums = [-1,2,1,-4], target = 1\n",
    "Output: 2\n",
    "\n",
    "\n",
    "Explanation: The sum that is closest to the target is 2. (-1 + 2 + 1 = 2)."
   ]
  },
  {
   "cell_type": "code",
   "execution_count": 1,
   "id": "f76e4927",
   "metadata": {},
   "outputs": [
    {
     "name": "stdout",
     "output_type": "stream",
     "text": [
      "-5.600000000000001\n"
     ]
    }
   ],
   "source": [
    "def threeSumClosest(nums, target):\n",
    "    n=len(nums)\n",
    "    nums.sort()\n",
    "    diff=20001\n",
    "    val=0\n",
    "    for i in range(n):\n",
    "        a=i+1\n",
    "        b=n-1\n",
    "        while(a<b):\n",
    "            cc=nums[i]+nums[a]+nums[b]\n",
    "            kk=abs(cc-target)\n",
    "            if(kk<diff):\n",
    "                diff=kk\n",
    "                val=cc\n",
    "            if(cc==target):\n",
    "                return target\n",
    "            elif(cc<target):\n",
    "                a+=1\n",
    "            else:\n",
    "                b-=1\n",
    "        \n",
    "    return val\n",
    "\n",
    "\n",
    "arr = [2,34,6,-45.6]\n",
    "t = 6\n",
    "print(threeSumClosest(arr,t))"
   ]
  },
  {
   "cell_type": "markdown",
   "id": "3fc9be62",
   "metadata": {},
   "source": [
    "Question 2\n",
    "Given an array nums of n integers, return an array of all the unique quadruplets [nums[a], nums[b], nums[c], nums[d]] such that:\n",
    "● 0 <= a, b, c, d < n\n",
    "● a, b, c, and d are distinct.\n",
    "● nums[a] + nums[b] + nums[c] + nums[d] == target\n",
    "\n",
    "You may return the answer in any order.\n",
    "\n",
    "Example 1:\n",
    "Input: nums = [1,0,-1,0,-2,2], target = 0\n",
    "Output: [[-2,-1,1,2],[-2,0,0,2],[-1,0,0,1]]"
   ]
  },
  {
   "cell_type": "code",
   "execution_count": 2,
   "id": "64db9d2f",
   "metadata": {},
   "outputs": [
    {
     "name": "stdout",
     "output_type": "stream",
     "text": [
      "{(-2, -1, 1, 2), (-1, 0, 0, 1), (-2, 0, 0, 2)}\n"
     ]
    }
   ],
   "source": [
    "def fourSum(nums, target):        \n",
    "    \n",
    "    L, hm, res = len(nums), {}, set()\n",
    "    for i in range(L):\n",
    "        for j in range(i+1, L):\n",
    "            for k in range(j+1, L):\n",
    "                numA, numB, numC = nums[i], nums[j], nums[k]\n",
    "                numD = (target - (numA + numB + numC)) \n",
    "                if numD in hm and hm[numD] not in [i,j,k]: \n",
    "                    tmp_ans = tuple(sorted([numA, numB, numC, numD]))       \n",
    "                    res.add(tmp_ans)\n",
    "                else:\n",
    "                    hm[numC] = k\n",
    "    return res\n",
    "    \n",
    "arr = [1,0,-1,0,-2,2]\n",
    "t = 0\n",
    "print(fourSum(arr,t))"
   ]
  },
  {
   "cell_type": "markdown",
   "id": "7f042965",
   "metadata": {},
   "source": [
    "**Question 3** A permutation of an array of integers is an arrangement of its members into a sequence or linear order.\n",
    "For example, for arr = [1,2,3], the following are all the permutations of arr: [1,2,3], [1,3,2], [2, 1, 3], [2, 3, 1], [3,1,2], [3,2,1].\n",
    "\n",
    "The next permutation of an array of integers is the next lexicographically greater permutation of its integer. More formally, if all the permutations of the array are sorted in one container according to their lexicographical order, then the next permutation of that array is the permutation that follows it in the sorted container.\n",
    "\n",
    "If such an arrangement is not possible, the array must be rearranged as the lowest possible order (i.e., sorted in ascending order).\n",
    "\n",
    "● For example, the next permutation of arr = [1,2,3] is [1,3,2]. ● Similarly, the next permutation of arr = [2,3,1] is [3,1,2]. ● While the next permutation of arr = [3,2,1] is [1,2,3] because [3,2,1] does not have a lexicographical larger rearrangement.\n",
    "\n",
    "Given an array of integers nums, find the next permutation of nums. The replacement must be in place and use only constant extra memory.\n",
    "\n",
    "Example 1: Input: nums = [1,2,3] Output: [1,3,2]"
   ]
  },
  {
   "cell_type": "code",
   "execution_count": 3,
   "id": "0d369b71",
   "metadata": {},
   "outputs": [
    {
     "name": "stdout",
     "output_type": "stream",
     "text": [
      "[1, 3, 2]\n"
     ]
    }
   ],
   "source": [
    "def next_permutation(nums):\n",
    "    i = len(nums) - 2\n",
    "    while i >= 0 and nums[i + 1] <= nums[i]:\n",
    "        i -= 1\n",
    "    if i >= 0:\n",
    "        j = len(nums) - 1\n",
    "        while nums[j] <= nums[i]:\n",
    "            j -= 1\n",
    "        nums[i], nums[j] = nums[j], nums[i]\n",
    "    reverse(nums, i + 1)\n",
    " \n",
    "def reverse(nums, start):\n",
    "    i, j = start, len(nums) - 1\n",
    "    while i < j:\n",
    "        nums[i], nums[j] = nums[j], nums[i]\n",
    "        i += 1\n",
    "        j -= 1\n",
    "\n",
    "arr=[1,2,3]\n",
    "next_permutation(arr)\n",
    "print(arr)"
   ]
  },
  {
   "cell_type": "markdown",
   "id": "225f020a",
   "metadata": {},
   "source": [
    "Question 4\n",
    "Given a sorted array of distinct integers and a target value, return the index if the target is found.\n",
    "If not, return the index where it would be if it were inserted in order.\n",
    "\n",
    "You must write an algorithm with O(log n) runtime complexity.\n",
    "\n",
    "Example 1:\n",
    "Input: nums = [1,3,5,6], target = 5\n",
    "Output: 2"
   ]
  },
  {
   "cell_type": "code",
   "execution_count": 4,
   "id": "409c9755",
   "metadata": {},
   "outputs": [
    {
     "name": "stdout",
     "output_type": "stream",
     "text": [
      "2\n"
     ]
    }
   ],
   "source": [
    "def searchInsert(nums, target):\n",
    "    for i in range(len(nums)):\n",
    "        \n",
    "        if nums[i] == target:\n",
    "            return i\n",
    "            \n",
    "        elif nums[i] > target:\n",
    "            return i\n",
    "\n",
    "            \n",
    "    return len(nums)\n",
    "\n",
    "arr = [1,9,18]\n",
    "print(searchInsert(arr,12))"
   ]
  },
  {
   "cell_type": "markdown",
   "id": "4c2579b5",
   "metadata": {},
   "source": [
    "Question 5** You are given a large integer represented as an integer array digits, where each digits[i] is the ith digit of the integer. The digits are ordered from most significant to least significant in left-to-right order. The large integer does not contain any leading 0's.\n",
    "Increment the large integer by one and return the resulting array of digits.\n",
    "\n",
    "Example 1: Input: digits = [1,2,3] Output: [1,2,4]\n",
    "\n",
    "Explanation: The array represents the integer 123. Incrementing by one gives 123 + 1 = 124. Thus, the result should be [1,2,4]."
   ]
  },
  {
   "cell_type": "code",
   "execution_count": 5,
   "id": "0c1e1db8",
   "metadata": {},
   "outputs": [
    {
     "name": "stdout",
     "output_type": "stream",
     "text": [
      "[1, 0, 0, 0, 0]\n"
     ]
    }
   ],
   "source": [
    "def plusOne( digits):\n",
    "    size = len(digits)-1;\n",
    "    for num in range(size, -1, -1) :\n",
    "        if(num == 0):\n",
    "            if(digits[num]==9):\n",
    "                digits[num] = 0;\n",
    "                digits.insert(0,1);\n",
    "            else:\n",
    "                digits[num]  =digits[num] + 1;\n",
    "                break;\n",
    "        else:\n",
    "            if(digits[num]==9):\n",
    "                digits[num] = 0;\n",
    "            else:\n",
    "                digits[num]  =digits[num] + 1;\n",
    "                break;\n",
    "    return  digits;\n",
    "\n",
    "arr = [9, 9, 9, 9]\n",
    "print(plusOne(arr))"
   ]
  },
  {
   "cell_type": "markdown",
   "id": "3d52e593",
   "metadata": {},
   "source": [
    "Question 6\n",
    "Given a non-empty array of integers nums, every element appears twice except for one. Find that single one.\n",
    "\n",
    "You must implement a solution with a linear runtime complexity and use only constant extra space.\n",
    "\n",
    "Example 1:\n",
    "Input: nums = [2,2,1]\n",
    "Output: 1"
   ]
  },
  {
   "cell_type": "code",
   "execution_count": 6,
   "id": "59f91247",
   "metadata": {},
   "outputs": [
    {
     "name": "stdout",
     "output_type": "stream",
     "text": [
      "7\n"
     ]
    }
   ],
   "source": [
    "def singleNumber(nums):\n",
    "    ans = 0\n",
    "    for i in nums:\n",
    "        ans =  ans^i\n",
    "\n",
    "    return ans\n",
    "\n",
    "arr = [1,1,2,2,5,5,7]\n",
    "print(singleNumber(arr))"
   ]
  },
  {
   "cell_type": "markdown",
   "id": "9fcb6ddc",
   "metadata": {},
   "source": [
    "Question 7\n",
    "You are given an inclusive range [lower, upper] and a sorted unique integer array nums, where all elements are within the inclusive range.\n",
    "\n",
    "A number x is considered missing if x is in the range [lower, upper] and x is not in nums.\n",
    "\n",
    "Return the shortest sorted list of ranges that exactly covers all the missing numbers. That is, no element of nums is included in any of the ranges, and each missing number is covered by one of the ranges.\n",
    "\n",
    "Example 1:\n",
    "Input: nums = [0,1,3,50,75], lower = 0, upper = 99\n",
    "Output: [[2,2],[4,49],[51,74],[76,99]]\n",
    "\n",
    "Explanation: The ranges are:\n",
    "[2,2]\n",
    "[4,49]\n",
    "[51,74]\n",
    "[76,99]"
   ]
  },
  {
   "cell_type": "code",
   "execution_count": 7,
   "id": "19c8b3d5",
   "metadata": {},
   "outputs": [
    {
     "name": "stdout",
     "output_type": "stream",
     "text": [
      "['2->4', '6->48', '50->97', '99']\n"
     ]
    }
   ],
   "source": [
    "from itertools import pairwise\n",
    "\n",
    "\n",
    "def findMissingRanges(nums, lower, upper) :\n",
    "    def f(a, b):\n",
    "        return str(a) if a == b else f'{a}->{b}'\n",
    "\n",
    "    n = len(nums)\n",
    "    if n == 0:\n",
    "        return [f(lower, upper)]\n",
    "    ans = []\n",
    "    if nums[0] > lower:\n",
    "        ans.append(f(lower, nums[0] - 1))\n",
    "    for a, b in pairwise(nums):\n",
    "        if b - a > 1:\n",
    "            ans.append(f(a + 1, b - 1))\n",
    "    if nums[-1] < upper:\n",
    "        ans.append(f(nums[-1] + 1, upper))\n",
    "    return ans\n",
    "\n",
    "arr=[0,1,5,49,98]\n",
    "l = 0\n",
    "h = 99\n",
    "print(findMissingRanges(arr,l,h))"
   ]
  },
  {
   "cell_type": "markdown",
   "id": "e1730f82",
   "metadata": {},
   "source": [
    "Question 8** Given an array of meeting time intervals where intervals[i] = [starti, endi], determine if a person could attend all meetings.\n",
    "Example 1: Input: intervals = [[0,30],[5,10],[15,20]] Output: false"
   ]
  },
  {
   "cell_type": "code",
   "execution_count": 8,
   "id": "d4edd00d",
   "metadata": {},
   "outputs": [
    {
     "ename": "NameError",
     "evalue": "name 'maxMeeting' is not defined",
     "output_type": "error",
     "traceback": [
      "\u001b[1;31m---------------------------------------------------------------------------\u001b[0m",
      "\u001b[1;31mNameError\u001b[0m                                 Traceback (most recent call last)",
      "Cell \u001b[1;32mIn[8], line 27\u001b[0m\n\u001b[0;32m     25\u001b[0m \u001b[38;5;28;01mfor\u001b[39;00m i \u001b[38;5;129;01min\u001b[39;00m \u001b[38;5;28mrange\u001b[39m(N):\n\u001b[0;32m     26\u001b[0m     l\u001b[38;5;241m.\u001b[39mappend(meeting(s[i], f[i]))\n\u001b[1;32m---> 27\u001b[0m \u001b[38;5;28mprint\u001b[39m(\u001b[43mmaxMeeting\u001b[49m(l, N))\n",
      "\u001b[1;31mNameError\u001b[0m: name 'maxMeeting' is not defined"
     ]
    }
   ],
   "source": [
    "class meeting:\n",
    "    def __init__(self, start, end):\n",
    "        self.start = start\n",
    "        self.end = end\n",
    "\n",
    "\n",
    "\n",
    "    def maxMeeting(l, N):\n",
    "        l.sort(key=lambda x: x.end)\n",
    "        time_limit = l[0].end\n",
    "        for i in range(1, N):\n",
    "            if l[i].start > time_limit:\n",
    "                return True\n",
    "            else:\n",
    "                return False\n",
    "        \n",
    "if __name__ == '__main__':\n",
    "    # Starting time\n",
    "    s = [1, 8]\n",
    "    # Finish time\n",
    "    f = [2, 8]\n",
    "    # Number of meetings.\n",
    "    N = len(s)\n",
    "    l = []\n",
    "    for i in range(N):\n",
    "        l.append(meeting(s[i], f[i]))\n",
    "    print(maxMeeting(l, N))"
   ]
  },
  {
   "cell_type": "code",
   "execution_count": null,
   "id": "538c2593",
   "metadata": {},
   "outputs": [],
   "source": []
  }
 ],
 "metadata": {
  "kernelspec": {
   "display_name": "Python 3 (ipykernel)",
   "language": "python",
   "name": "python3"
  },
  "language_info": {
   "codemirror_mode": {
    "name": "ipython",
    "version": 3
   },
   "file_extension": ".py",
   "mimetype": "text/x-python",
   "name": "python",
   "nbconvert_exporter": "python",
   "pygments_lexer": "ipython3",
   "version": "3.10.9"
  }
 },
 "nbformat": 4,
 "nbformat_minor": 5
}
