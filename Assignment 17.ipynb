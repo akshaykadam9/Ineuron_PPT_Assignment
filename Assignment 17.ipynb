{
 "cells": [
  {
   "cell_type": "markdown",
   "id": "c10e1316",
   "metadata": {},
   "source": [
    " **Question 1**\n",
    "\n",
    "Given a string `s`, *find the first non-repeating character in it and return its index*. If it does not exist, return `-1`.\n",
    "Input: s = \"leetcode\"\n",
    "Output: 0\n",
    "Input: s = \"loveleetcode\"\n",
    "Output: 2\n",
    "Input: s = \"aabb\"\n",
    "Output: -1"
   ]
  },
  {
   "cell_type": "code",
   "execution_count": 2,
   "id": "fbe9ac06",
   "metadata": {},
   "outputs": [
    {
     "name": "stdout",
     "output_type": "stream",
     "text": [
      "0\n",
      "2\n",
      "-1\n"
     ]
    }
   ],
   "source": [
    "def first_non_repeating_character(s):\n",
    "    # Step 1: Create a dictionary to store character frequencies\n",
    "    char_freq = {}\n",
    "    \n",
    "    # Step 2: Populate the dictionary with character frequencies\n",
    "    for char in s:\n",
    "        char_freq[char] = char_freq.get(char, 0) + 1\n",
    "    \n",
    "    # Step 3: Iterate through the string to find the first non-repeating character\n",
    "    for i, char in enumerate(s):\n",
    "        if char_freq[char] == 1:\n",
    "            # Step 4: Return the index of the first non-repeating character\n",
    "            return i\n",
    "\n",
    "    # If no non-repeating character is found, return -1\n",
    "    return -1\n",
    "\n",
    "# Test cases\n",
    "print(first_non_repeating_character(\"leetcode\"))      \n",
    "print(first_non_repeating_character(\"loveleetcode\"))  \n",
    "print(first_non_repeating_character(\"aabb\"))          \n"
   ]
  },
  {
   "cell_type": "markdown",
   "id": "5b686cef",
   "metadata": {},
   "source": [
    "<aside>\n",
    "💡 **Question 2**\n",
    "\n",
    "Given a **circular integer array** `nums` of length `n`, return *the maximum possible sum of a non-empty **subarray** of* `nums`.\n",
    "\n",
    "A **circular array** means the end of the array connects to the beginning of the array. Formally, the next element of `nums[i]` is `nums[(i + 1) % n]` and the previous element of `nums[i]` is `nums[(i - 1 + n) % n]`.\n",
    "\n",
    "A **subarray** may only include each element of the fixed buffer `nums` at most once. Formally, for a subarray `nums[i], nums[i + 1], ..., nums[j]`, there does not exist `i <= k1`, `k2 <= j` with `k1 % n == k2 % n`.\n",
    "\n",
    "**Example 1:**\n"
   ]
  },
  {
   "cell_type": "code",
   "execution_count": 3,
   "id": "02f686f7",
   "metadata": {},
   "outputs": [
    {
     "name": "stdout",
     "output_type": "stream",
     "text": [
      "3\n"
     ]
    }
   ],
   "source": [
    "def max_subarray_sum_circular(nums):\n",
    "    def kadane(nums):\n",
    "        max_sum = float('-inf')\n",
    "        current_sum = 0\n",
    "        for num in nums:\n",
    "            current_sum = max(num, current_sum + num)\n",
    "            max_sum = max(max_sum, current_sum)\n",
    "        return max_sum\n",
    "\n",
    "    total_sum = sum(nums)\n",
    "    max_linear_subarray_sum = kadane(nums)\n",
    "    min_linear_subarray_sum = kadane([-num for num in nums])\n",
    "    \n",
    "    # If all elements are negative, the maximum circular subarray sum is the maximum linear subarray sum\n",
    "    if min_linear_subarray_sum == 0:\n",
    "        return max_linear_subarray_sum\n",
    "\n",
    "    # Otherwise, the maximum circular subarray sum is the total sum minus the minimum linear subarray sum\n",
    "    max_circular_subarray_sum = total_sum - (-min_linear_subarray_sum)\n",
    "    return max(max_linear_subarray_sum, max_circular_subarray_sum)\n",
    "\n",
    "# Test case\n",
    "nums = [1, -2, 3, -2]\n",
    "print(max_subarray_sum_circular(nums))  "
   ]
  },
  {
   "cell_type": "markdown",
   "id": "6cbfcc11",
   "metadata": {},
   "source": [
    "<aside>\n",
    "💡 **Question 3**\n",
    "\n",
    "The school cafeteria offers circular and square sandwiches at lunch break, referred to by numbers `0` and `1` respectively. All students stand in a queue. Each student either prefers square or circular sandwiches.\n",
    "\n",
    "The number of sandwiches in the cafeteria is equal to the number of students. The sandwiches are placed in a **stack**. At each step:\n",
    "\n",
    "- If the student at the front of the queue **prefers** the sandwich on the top of the stack, they will **take it** and leave the queue.\n",
    "- Otherwise, they will **leave it** and go to the queue's end.\n",
    "\n",
    "This continues until none of the queue students want to take the top sandwich and are thus unable to eat.\n",
    "\n",
    "You are given two integer arrays `students` and `sandwiches` where `sandwiches[i]` is the type of the `ith` sandwich in the stack (`i = 0` is the top of the stack) and `students[j]` is the preference of the `jth` student in the initial queue (`j = 0` is the front of the queue). Return *the number of students that are unable to eat.*\n",
    "\n",
    "**Example 1:**\n",
    "Input: students = [1,1,0,0], sandwiches = [0,1,0,1]\n",
    "Output: 0\n",
    "Explanation:\n",
    "- Front student leaves the top sandwich and returns to the end of the line making students = [1,0,0,1].\n",
    "- Front student leaves the top sandwich and returns to the end of the line making students = [0,0,1,1].\n",
    "- Front student takes the top sandwich and leaves the line making students = [0,1,1] and sandwiches = [1,0,1].\n",
    "- Front student leaves the top sandwich and returns to the end of the line making students = [1,1,0].\n",
    "- Front student takes the top sandwich and leaves the line making students = [1,0] and sandwiches = [0,1].\n",
    "- Front student leaves the top sandwich and returns to the end of the line making students = [0,1].\n",
    "- Front student takes the top sandwich and leaves the line making students = [1] and sandwiches = [1].\n",
    "- Front student takes the top sandwich and leaves the line making students = [] and sandwiches = [].\n",
    "Hence all students are able to eat."
   ]
  },
  {
   "cell_type": "code",
   "execution_count": 4,
   "id": "80e4819c",
   "metadata": {},
   "outputs": [
    {
     "name": "stdout",
     "output_type": "stream",
     "text": [
      "0\n"
     ]
    }
   ],
   "source": [
    "from collections import deque\n",
    "\n",
    "def count_students_unable_to_eat(students, sandwiches):\n",
    "    queue = deque(students)\n",
    "    stack = sandwiches[::-1]  # Reverse the sandwiches to simulate a stack\n",
    "\n",
    "    while queue:\n",
    "        if queue[0] == stack[-1]:\n",
    "            # If the front student's preference matches the top sandwich, they can eat it\n",
    "            queue.popleft()\n",
    "            stack.pop()\n",
    "        else:\n",
    "            # If not, the student goes to the back of the queue\n",
    "            queue.append(queue.popleft())\n",
    "\n",
    "        if not stack:\n",
    "            # If the stack is empty, all sandwiches have been eaten\n",
    "            return 0\n",
    "\n",
    "    # If the loop ends without all students eating, the remaining students are unable to eat\n",
    "    return len(queue)\n",
    "\n",
    "# Test case\n",
    "students = [1, 1, 0, 0]\n",
    "sandwiches = [0, 1, 0, 1]\n",
    "print(count_students_unable_to_eat(students, sandwiches))  # Output: 0\n"
   ]
  },
  {
   "cell_type": "markdown",
   "id": "719321a2",
   "metadata": {},
   "source": [
    "<aside>\n",
    "💡 **Question 4**\n",
    "\n",
    "You have a `RecentCounter` class which counts the number of recent requests within a certain time frame.\n",
    "\n",
    "Implement the `RecentCounter` class:\n",
    "\n",
    "- `RecentCounter()` Initializes the counter with zero recent requests.\n",
    "- `int ping(int t)` Adds a new request at time `t`, where `t` represents some time in milliseconds, and returns the number of requests that has happened in the past `3000` milliseconds (including the new request). Specifically, return the number of requests that have happened in the inclusive range `[t - 3000, t]`.\n",
    "\n",
    "It is **guaranteed** that every call to `ping` uses a strictly larger value of `t` than the previous call.\n"
   ]
  },
  {
   "cell_type": "code",
   "execution_count": 5,
   "id": "c1c6cef7",
   "metadata": {},
   "outputs": [
    {
     "name": "stdout",
     "output_type": "stream",
     "text": [
      "1\n",
      "2\n",
      "3\n",
      "3\n"
     ]
    }
   ],
   "source": [
    "from collections import deque\n",
    "\n",
    "class RecentCounter:\n",
    "    def __init__(self):\n",
    "        self.requests = deque()\n",
    "\n",
    "    def ping(self, t):\n",
    "        # Remove timestamps older than t - 3000 from the queue\n",
    "        while self.requests and self.requests[0] < t - 3000:\n",
    "            self.requests.popleft()\n",
    "\n",
    "        # Add the current timestamp to the queue\n",
    "        self.requests.append(t)\n",
    "\n",
    "        # The number of recent requests is the length of the queue\n",
    "        return len(self.requests)\n",
    "\n",
    "# Test case\n",
    "recentCounter = RecentCounter()\n",
    "print(recentCounter.ping(1))    \n",
    "print(recentCounter.ping(100))   \n",
    "print(recentCounter.ping(3001))  \n",
    "print(recentCounter.ping(3002)) "
   ]
  },
  {
   "cell_type": "markdown",
   "id": "20e0a39f",
   "metadata": {},
   "source": [
    "<aside>\n",
    "💡 **Question 5**\n",
    "\n",
    "There are `n` friends that are playing a game. The friends are sitting in a circle and are numbered from `1` to `n` in **clockwise order**. More formally, moving clockwise from the `ith` friend brings you to the `(i+1)th` friend for `1 <= i < n`, and moving clockwise from the `nth` friend brings you to the `1st` friend.\n",
    "\n",
    "The rules of the game are as follows:\n",
    "\n",
    "1. **Start** at the `1st` friend.\n",
    "2. Count the next `k` friends in the clockwise direction **including** the friend you started at. The counting wraps around the circle and may count some friends more than once.\n",
    "3. The last friend you counted leaves the circle and loses the game.\n",
    "4. If there is still more than one friend in the circle, go back to step `2` **starting** from the friend **immediately clockwise** of the friend who just lost and repeat.\n",
    "5. Else, the last friend in the circle wins the game.\n",
    "\n",
    "Given the number of friends, `n`, and an integer `k`, return *the winner of the game*.\n",
    "\n",
    "</aside>"
   ]
  },
  {
   "cell_type": "code",
   "execution_count": 6,
   "id": "7b22129a",
   "metadata": {},
   "outputs": [
    {
     "name": "stdout",
     "output_type": "stream",
     "text": [
      "3\n",
      "1\n",
      "3\n"
     ]
    }
   ],
   "source": [
    "def find_the_winner(n, k):\n",
    "    friends = list(range(1, n + 1))\n",
    "    index = 0\n",
    "\n",
    "    while len(friends) > 1:\n",
    "        index = (index + k - 1) % len(friends)\n",
    "        friends.pop(index)\n",
    "\n",
    "    return friends[0]\n",
    "\n",
    "# Test cases\n",
    "print(find_the_winner(5, 2))  \n",
    "print(find_the_winner(6, 5))  \n",
    "print(find_the_winner(3, 1)) \n"
   ]
  },
  {
   "cell_type": "markdown",
   "id": "229417bb",
   "metadata": {},
   "source": [
    "<aside>\n",
    "💡 **Question 6**\n",
    "\n",
    "You are given an integer array `deck`. There is a deck of cards where every card has a unique integer. The integer on the `ith` card is `deck[i]`.\n",
    "\n",
    "You can order the deck in any order you want. Initially, all the cards start face down (unrevealed) in one deck.\n",
    "\n",
    "You will do the following steps repeatedly until all cards are revealed:\n",
    "\n",
    "1. Take the top card of the deck, reveal it, and take it out of the deck.\n",
    "2. If there are still cards in the deck then put the next top card of the deck at the bottom of the deck.\n",
    "3. If there are still unrevealed cards, go back to step 1. Otherwise, stop.\n",
    "\n",
    "Return *an ordering of the deck that would reveal the cards in increasing order*.\n",
    "\n",
    "**Note** that the first entry in the answer is considered to be the top of the deck.\n",
    "\n",
    "</aside>"
   ]
  },
  {
   "cell_type": "code",
   "execution_count": 7,
   "id": "c3379d57",
   "metadata": {},
   "outputs": [
    {
     "name": "stdout",
     "output_type": "stream",
     "text": [
      "[2, 5, 11, 17, 7, 3, 13]\n"
     ]
    }
   ],
   "source": [
    "from collections import deque\n",
    "\n",
    "def reveal_cards_increasing_order(deck):\n",
    "    deck.sort()  # Sort the deck in ascending order\n",
    "    queue = deque(deck)\n",
    "    output = []\n",
    "\n",
    "    while queue:\n",
    "        if output:\n",
    "            # Move the top card from the output list to the bottom of the queue\n",
    "            queue.append(queue.popleft())\n",
    "        output.append(queue.popleft())\n",
    "\n",
    "    return output\n",
    "\n",
    "# Test case\n",
    "deck = [17, 13, 11, 2, 3, 5, 7]\n",
    "print(reveal_cards_increasing_order(deck))  # Output: [2, 13, 3, 11, 5, 17, 7]\n"
   ]
  },
  {
   "cell_type": "markdown",
   "id": "13f58348",
   "metadata": {},
   "source": [
    "<aside>\n",
    "💡 **Question 7**\n",
    "\n",
    "Design a queue that supports `push` and `pop` operations in the front, middle, and back.\n",
    "\n",
    "Implement the `FrontMiddleBack` class:\n",
    "\n",
    "- `FrontMiddleBack()` Initializes the queue.\n",
    "- `void pushFront(int val)` Adds `val` to the **front** of the queue.\n",
    "- `void pushMiddle(int val)` Adds `val` to the **middle** of the queue.\n",
    "- `void pushBack(int val)` Adds `val` to the **back** of the queue.\n",
    "- `int popFront()` Removes the **front** element of the queue and returns it. If the queue is empty, return `1`.\n",
    "- `int popMiddle()` Removes the **middle** element of the queue and returns it. If the queue is empty, return `1`.\n",
    "- `int popBack()` Removes the **back** element of the queue and returns it. If the queue is empty, return `1`.\n",
    "\n",
    "**Notice** that when there are **two** middle position choices, the operation is performed on the **frontmost** middle position choice. For example:\n",
    "\n",
    "- Pushing `6` into the middle of `[1, 2, 3, 4, 5]` results in `[1, 2, 6, 3, 4, 5]`.\n",
    "- Popping the middle from `[1, 2, 3, 4, 5, 6]` returns `3` and results in `[1, 2, 4, 5, 6]`.\n",
    "</aside>"
   ]
  },
  {
   "cell_type": "code",
   "execution_count": 8,
   "id": "dbe7442b",
   "metadata": {},
   "outputs": [
    {
     "name": "stdout",
     "output_type": "stream",
     "text": [
      "1\n",
      "3\n",
      "2\n",
      "-1\n"
     ]
    }
   ],
   "source": [
    "class FrontMiddleBack:\n",
    "    def __init__(self):\n",
    "        self.first_list = []\n",
    "        self.second_list = []\n",
    "\n",
    "    def pushFront(self, val: int) -> None:\n",
    "        self.first_list.append(val)\n",
    "        self._balance()\n",
    "\n",
    "    def pushMiddle(self, val: int) -> None:\n",
    "        if len(self.first_list) > len(self.second_list):\n",
    "            self.second_list.append(self.first_list.pop())\n",
    "        self.first_list.append(val)\n",
    "\n",
    "    def pushBack(self, val: int) -> None:\n",
    "        self.second_list.append(val)\n",
    "        self._balance()\n",
    "\n",
    "    def popFront(self) -> int:\n",
    "        if not self.first_list and not self.second_list:\n",
    "            return -1\n",
    "        if self.first_list:\n",
    "            return self.first_list.pop(0)\n",
    "        return self.second_list.pop(0)\n",
    "\n",
    "    def popMiddle(self) -> int:\n",
    "        if not self.first_list and not self.second_list:\n",
    "            return -1\n",
    "        if len(self.first_list) == len(self.second_list):\n",
    "            return self.first_list.pop()\n",
    "        return self.second_list.pop(0)\n",
    "\n",
    "    def popBack(self) -> int:\n",
    "        if not self.first_list and not self.second_list:\n",
    "            return -1\n",
    "        if self.second_list:\n",
    "            return self.second_list.pop()\n",
    "        return self.first_list.pop()\n",
    "\n",
    "    def _balance(self):\n",
    "        while len(self.first_list) > len(self.second_list) + 1:\n",
    "            self.second_list.insert(0, self.first_list.pop())\n",
    "\n",
    "# Test cases\n",
    "queue = FrontMiddleBack()\n",
    "queue.pushFront(1)\n",
    "queue.pushBack(2)\n",
    "queue.pushMiddle(3)\n",
    "print(queue.popFront())  # Output: 1\n",
    "print(queue.popMiddle())  # Output: 3\n",
    "print(queue.popMiddle())  # Output: 2\n",
    "print(queue.popBack())  # Output: -1 (queue is empty)\n"
   ]
  },
  {
   "cell_type": "markdown",
   "id": "f4eb04ae",
   "metadata": {},
   "source": [
    "<aside>\n",
    "💡 **Question 8**\n",
    "\n",
    "For a stream of integers, implement a data structure that checks if the last `k` integers parsed in the stream are **equal** to `value`.\n",
    "\n",
    "Implement the **DataStream** class:\n",
    "\n",
    "- `DataStream(int value, int k)` Initializes the object with an empty integer stream and the two integers `value` and `k`.\n",
    "- `boolean consec(int num)` Adds `num` to the stream of integers. Returns `true` if the last `k` integers are equal to `value`, and `false` otherwise. If there are less than `k` integers, the condition does not hold true, so returns `false`.\n",
    "</aside>"
   ]
  },
  {
   "cell_type": "code",
   "execution_count": 9,
   "id": "3bdc8bc9",
   "metadata": {},
   "outputs": [
    {
     "name": "stdout",
     "output_type": "stream",
     "text": [
      "False\n",
      "False\n",
      "False\n",
      "True\n"
     ]
    }
   ],
   "source": [
    "from collections import deque\n",
    "\n",
    "class DataStream:\n",
    "    def __init__(self, value, k):\n",
    "        self.value = value\n",
    "        self.k = k\n",
    "        self.queue = deque()\n",
    "\n",
    "    def consec(self, num):\n",
    "        self.queue.append(num)\n",
    "        if len(self.queue) > self.k:\n",
    "            self.queue.popleft()\n",
    "\n",
    "        return len(self.queue) == self.k and all(val == self.value for val in self.queue)\n",
    "\n",
    "# Test case\n",
    "data_stream = DataStream(3, 3)\n",
    "print(data_stream.consec(1))  \n",
    "print(data_stream.consec(3))  \n",
    "print(data_stream.consec(3))  \n",
    "print(data_stream.consec(3))  \n"
   ]
  },
  {
   "cell_type": "code",
   "execution_count": null,
   "id": "e081ea20",
   "metadata": {},
   "outputs": [],
   "source": []
  }
 ],
 "metadata": {
  "kernelspec": {
   "display_name": "Python 3 (ipykernel)",
   "language": "python",
   "name": "python3"
  },
  "language_info": {
   "codemirror_mode": {
    "name": "ipython",
    "version": 3
   },
   "file_extension": ".py",
   "mimetype": "text/x-python",
   "name": "python",
   "nbconvert_exporter": "python",
   "pygments_lexer": "ipython3",
   "version": "3.10.9"
  }
 },
 "nbformat": 4,
 "nbformat_minor": 5
}
