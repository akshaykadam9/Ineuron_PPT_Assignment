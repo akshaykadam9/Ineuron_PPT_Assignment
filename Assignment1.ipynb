{
 "cells": [
  {
   "cell_type": "markdown",
   "id": "697cc7df",
   "metadata": {},
   "source": [
    "\n",
    "💡 **Q1.** Given an array of integers nums and an integer target, return indices of the two numbers such that they add up to target.\n",
    "\n",
    "You may assume that each input would have exactly one solution, and you may not use the same element twice.\n",
    "\n",
    "You can return the answer in any order.\n",
    "\n",
    "**Example:**\n",
    "Input: nums = [2,7,11,15], target = 9\n",
    "Output0 [0,1]\n",
    "\n",
    "</aside>"
   ]
  },
  {
   "cell_type": "code",
   "execution_count": 3,
   "id": "aa622e2f",
   "metadata": {},
   "outputs": [
    {
     "name": "stdout",
     "output_type": "stream",
     "text": [
      "[1, 0]\n"
     ]
    },
    {
     "data": {
      "text/plain": [
       "[1, 0]"
      ]
     },
     "execution_count": 3,
     "metadata": {},
     "output_type": "execute_result"
    }
   ],
   "source": [
    "def abc( a, b):\n",
    "    ans, seen = [], set()\n",
    "\n",
    "    for i in range(len(a)):\n",
    "        if b - a[i] in seen:\n",
    "            ans.append([i, a.index(b - a[i])])\n",
    "        else:\n",
    "            seen.add(a[i])\n",
    "    return ans[0];\n",
    "arr = [2,7, 5, 6]\n",
    "K = 9\n",
    "print(abc(arr, K))\n",
    "[1, 0]"
   ]
  },
  {
   "cell_type": "markdown",
   "id": "24405589",
   "metadata": {},
   "source": [
    " **Q2.** Given an integer array nums and an integer val, remove all occurrences of val in nums in-place. The order of the elements may be changed. Then return the number of elements in nums which are not equal to val.\n",
    "Consider the number of elements in nums which are not equal to val be k, to get accepted, you need to do the following things:\n",
    "\n",
    "Change the array nums such that the first k elements of nums contain the elements which are not equal to val. The remaining elements of nums are not important as well as the size of nums.\n",
    "Return k.\n",
    "Example : Input: nums = [3,2,2,3], val = 3 Output: 2, nums = [2,2,*,*]\n",
    "\n",
    "Explanation: Your function should return k = 2, with the first two elements of nums being 2. It does not matter what you leave beyond the returned k (hence they are underscores)["
   ]
  },
  {
   "cell_type": "code",
   "execution_count": 5,
   "id": "3dd256f9",
   "metadata": {},
   "outputs": [
    {
     "name": "stdout",
     "output_type": "stream",
     "text": [
      "[1, 4, 5]\n"
     ]
    }
   ],
   "source": [
    "def abc(a, b):\n",
    "    while b in a:\n",
    "        a.remove(b)\n",
    "    return a\n",
    "arr=[0,1,0,4,5]\n",
    "k=0\n",
    "print(abc(arr,k))"
   ]
  },
  {
   "cell_type": "markdown",
   "id": "e4a6d21a",
   "metadata": {},
   "source": [
    " **Q3.** Given a sorted array of distinct integers and a target value, return the index if the target is found. If not, return the index where it would be if it were inserted in order.\n",
    "You must write an algorithm with O(log n) runtime complexity.\n",
    "\n",
    "Example 1: Input: nums = [1,3,5,6], target = 5\n",
    "\n",
    "Output: 2"
   ]
  },
  {
   "cell_type": "code",
   "execution_count": 7,
   "id": "83e8e786",
   "metadata": {},
   "outputs": [
    {
     "name": "stdout",
     "output_type": "stream",
     "text": [
      "1\n"
     ]
    }
   ],
   "source": [
    "def abc(a, b, c):\n",
    "     \n",
    "    for i in range(b):\n",
    "         \n",
    "        if a[i] == c:\n",
    "            return i\n",
    "             \n",
    "        elif a[i] > c:\n",
    "            return i\n",
    "             \n",
    "    return n\n",
    " \n",
    "a = [1, 3, 5, 6]\n",
    "b = len(a)\n",
    "c = 2\n",
    "print(abc(a, b, c))"
   ]
  },
  {
   "cell_type": "markdown",
   "id": "e9bdd2c8",
   "metadata": {},
   "source": [
    " **Q4.** You are given a large integer represented as an integer array digits, where each digits[i] is the ith digit of the integer. The digits are ordered from most significant to least significant in left-to-right order. The large integer does not contain any leading 0's.\n",
    "Increment the large integer by one and return the resulting array of digits.\n",
    "\n",
    "Example 1: Input: digits = [1,2,3] Output: [1,2,4]\n",
    "\n",
    "Explanation: The array represents the integer 123.\n",
    "\n",
    "Incrementing by one gives 123 + 1 = 124. Thus, the result should be [1,2,4]."
   ]
  },
  {
   "cell_type": "code",
   "execution_count": 8,
   "id": "60feceb2",
   "metadata": {},
   "outputs": [
    {
     "name": "stdout",
     "output_type": "stream",
     "text": [
      "[1, 0, 0, 0, 0]\n"
     ]
    }
   ],
   "source": [
    "def abc(a):\n",
    "    size = len(a)-1;\n",
    "    for i in range(size, -1, -1) :\n",
    "        if(i == 0):\n",
    "            if(a[i]==9):\n",
    "                a[i] = 0;\n",
    "                a.insert(0,1);\n",
    "            else:\n",
    "                a[i]  =a[i] + 1;\n",
    "                break;\n",
    "        else:\n",
    "            if(a[i]==9):\n",
    "                a[i] = 0;\n",
    "            else:\n",
    "                a[i]  =a[i] + 1;\n",
    "                break;\n",
    "    return  a;\n",
    "\n",
    "arr = [9, 9, 9, 9]\n",
    "print(abc(arr))"
   ]
  },
  {
   "cell_type": "markdown",
   "id": "08ca56e1",
   "metadata": {},
   "source": [
    "**Q5.** You are given two integer arrays nums1 and nums2, sorted in non-decreasing order, and two integers m and n, representing the number of elements in nums1 and nums2 respectively.\n",
    "Merge nums1 and nums2 into a single array sorted in non-decreasing order.\n",
    "\n",
    "The final sorted array should not be returned by the function, but instead be stored inside the array nums1. To accommodate this, nums1 has a length of m + n, where the first m elements denote the elements that should be merged, and the last n elements are set to 0 and should be ignored. nums2 has a length of n.\n",
    "\n",
    "Example 1: Input: nums1 = [1,2,3,0,0,0], m = 3, nums2 = [2,5,6], n = 3 Output: [1,2,2,3,5,6]\n",
    "\n",
    "Explanation: The arrays we are merging are [1,2,3] and [2,5,6]. The result of the merge is [1,2,2,3,5,6] with the underlined elements coming from nums1."
   ]
  },
  {
   "cell_type": "code",
   "execution_count": 9,
   "id": "75844f8c",
   "metadata": {},
   "outputs": [
    {
     "name": "stdout",
     "output_type": "stream",
     "text": [
      "[1, 2, 2, 3, 5, 6]\n"
     ]
    }
   ],
   "source": [
    "def merge(nums1, m, nums2, n):\n",
    "        i=0\n",
    "        for x in range(len(nums1)):\n",
    "            if i>=n:\n",
    "                break\n",
    "            if nums1[x]==0:\n",
    "                nums1[x]=nums2[i]\n",
    "                i+=1           \n",
    "        nums1.sort()\n",
    "\n",
    "arr1=[1,2,3,0,0,0]\n",
    "arr2=[2,5,6]\n",
    "merge(arr1,6,arr2,3)\n",
    "print(arr1)"
   ]
  },
  {
   "cell_type": "markdown",
   "id": "98f1fdd4",
   "metadata": {},
   "source": [
    " **Q6.** Given an integer array nums, return true if any value appears at least twice in the array, and return false if every element is distinct.\n",
    "Example 1: Input: nums = [1,2,3,1]\n",
    "\n",
    "Output: true"
   ]
  },
  {
   "cell_type": "code",
   "execution_count": 14,
   "id": "427cddae",
   "metadata": {},
   "outputs": [
    {
     "name": "stdout",
     "output_type": "stream",
     "text": [
      "True\n"
     ]
    }
   ],
   "source": [
    "def containsDuplicate(num):\n",
    "        hset = set();\n",
    "        for i in num:\n",
    "            if i in hset:\n",
    "                return True\n",
    "            else:\n",
    "                hset.add(i)\n",
    "\n",
    "arr = [1,5,6,4,1,2,2,]\n",
    "print(containsDuplicate(arr))"
   ]
  },
  {
   "cell_type": "markdown",
   "id": "d5db8af3",
   "metadata": {},
   "source": [
    " **Q7.** Given an integer array nums, move all 0's to the end of it while maintaining the relative order of the nonzero elements.\n",
    "Note that you must do this in-place without making a copy of the array.\n",
    "\n",
    "Example 1: Input: nums = [0,1,0,3,12] Output: [1,3,12,0,0]"
   ]
  },
  {
   "cell_type": "code",
   "execution_count": 15,
   "id": "d95934c1",
   "metadata": {},
   "outputs": [
    {
     "name": "stdout",
     "output_type": "stream",
     "text": [
      "[5, 7, 8, 0, 0, 0]\n"
     ]
    }
   ],
   "source": [
    "def moveZeroes(nums):\n",
    "        for i in range(len(nums)):\n",
    "            if(nums[i]==0):\n",
    "                nums.append(nums[i])\n",
    "                nums.remove(nums[i])\n",
    "arr = [0,5,0,7,0,8]\n",
    "moveZeroes(arr)\n",
    "print(arr)"
   ]
  },
  {
   "cell_type": "markdown",
   "id": "80fbae2c",
   "metadata": {},
   "source": [
    "**Q8.** You have a set of integers s, which originally contains all the numbers from 1 to n. Unfortunately, due to some error, one of the numbers in s got duplicated to another number in the set, which results in repetition of one number and loss of another number.\n",
    "You are given an integer array nums representing the data status of this set after the error.\n",
    "\n",
    "Find the number that occurs twice and the number that is missing and return them in the form of an array.\n",
    "\n",
    "Example 1: Input: nums = [1,2,2,4] Output: [2,3]"
   ]
  },
  {
   "cell_type": "code",
   "execution_count": 18,
   "id": "a668e789",
   "metadata": {},
   "outputs": [
    {
     "name": "stdout",
     "output_type": "stream",
     "text": [
      "[2, 3]\n"
     ]
    }
   ],
   "source": [
    "def findErrorNums(nums):\n",
    "    n = len(nums)\n",
    "    num_set = set()\n",
    "    duplicate = -1\n",
    "    for num in nums:\n",
    "        if num in num_set:\n",
    "            duplicate = num\n",
    "        else:\n",
    "            num_set.add(num)\n",
    "    total_sum = sum(nums)\n",
    "    expected_sum = n * (n + 1) // 2\n",
    "    missing = expected_sum - total_sum + duplicate\n",
    "    return [duplicate, missing]\n",
    "\n",
    "nums = [1, 2, 2, 4]\n",
    "result = findErrorNums(nums)\n",
    "print(result)"
   ]
  },
  {
   "cell_type": "code",
   "execution_count": null,
   "id": "724b76bc",
   "metadata": {},
   "outputs": [],
   "source": []
  }
 ],
 "metadata": {
  "kernelspec": {
   "display_name": "Python 3 (ipykernel)",
   "language": "python",
   "name": "python3"
  },
  "language_info": {
   "codemirror_mode": {
    "name": "ipython",
    "version": 3
   },
   "file_extension": ".py",
   "mimetype": "text/x-python",
   "name": "python",
   "nbconvert_exporter": "python",
   "pygments_lexer": "ipython3",
   "version": "3.10.9"
  }
 },
 "nbformat": 4,
 "nbformat_minor": 5
}
