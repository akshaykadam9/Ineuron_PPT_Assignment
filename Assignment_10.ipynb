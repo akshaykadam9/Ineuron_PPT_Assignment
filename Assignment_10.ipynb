{
 "cells": [
  {
   "cell_type": "markdown",
   "id": "e091609b",
   "metadata": {},
   "source": [
    "iven an integer `n`, return *`true` if it is a power of three. Otherwise, return `false`*.\n",
    "\n",
    "An integer `n` is a power of three, if there exists an integer `x` such that `n == 3x`.\n",
    "\n",
    "**Example 1:**\n",
    "\n",
    "```\n",
    "Input: n = 27\n",
    "Output: true\n",
    "Explanation: 27 = 33\n",
    "```\n",
    "\n",
    "**Example 2:**\n",
    "\n",
    "```\n",
    "Input: n = 0\n",
    "Output: false\n",
    "Explanation: There is no x where 3x = 0.\n",
    "\n",
    "```\n"
   ]
  },
  {
   "cell_type": "code",
   "execution_count": 13,
   "id": "5b5f6fda",
   "metadata": {},
   "outputs": [
    {
     "name": "stdout",
     "output_type": "stream",
     "text": [
      "True\n",
      "False\n"
     ]
    }
   ],
   "source": [
    "import math\n",
    "def isPowerOfThree(n):\n",
    "    if n <= 0:\n",
    "        return False\n",
    "    logarithm = math.log(n, 3)\n",
    "    return logarithm == int(logarithm)\n",
    "print(isPowerOfThree(27))\n",
    "print(isPowerOfThree(0))"
   ]
  },
  {
   "cell_type": "markdown",
   "id": "557afaf8",
   "metadata": {},
   "source": [
    "<aside>\n",
    "💡 **Question 2**\n",
    "\n",
    "You have a list `arr` of all integers in the range `[1, n]` sorted in a strictly increasing order. Apply the following algorithm on `arr`:\n",
    "\n",
    "- Starting from left to right, remove the first number and every other number afterward until you reach the end of the list.\n",
    "- Repeat the previous step again, but this time from right to left, remove the rightmost number and every other number from the remaining numbers.\n",
    "- Keep repeating the steps again, alternating left to right and right to left, until a single number remains.\n",
    "\n",
    "Given the integer `n`, return *the last number that remains in* `arr`.\n",
    "\n",
    "**Example 1:**\n",
    "\n",
    "```\n",
    "Input: n = 9\n",
    "Output: 6\n",
    "Explanation:\n",
    "arr = [1, 2,3, 4,5, 6,7, 8,9]\n",
    "arr = [2,4, 6,8]\n",
    "arr = [2, 6]\n",
    "arr = [6]\n",
    "\n",
    "```\n",
    "\n",
    "</aside>"
   ]
  },
  {
   "cell_type": "code",
   "execution_count": 14,
   "id": "dc549532",
   "metadata": {},
   "outputs": [
    {
     "ename": "KeyboardInterrupt",
     "evalue": "",
     "output_type": "error",
     "traceback": [
      "\u001b[1;31m---------------------------------------------------------------------------\u001b[0m",
      "\u001b[1;31mKeyboardInterrupt\u001b[0m                         Traceback (most recent call last)",
      "Cell \u001b[1;32mIn[14], line 15\u001b[0m\n\u001b[0;32m     12\u001b[0m         left_to_right \u001b[38;5;241m=\u001b[39m \u001b[38;5;129;01mnot\u001b[39;00m left_to_right\n\u001b[0;32m     14\u001b[0m     \u001b[38;5;28;01mreturn\u001b[39;00m arr[start]\n\u001b[1;32m---> 15\u001b[0m \u001b[38;5;28mprint\u001b[39m(\u001b[43mlastRemaining\u001b[49m\u001b[43m(\u001b[49m\u001b[38;5;241;43m9\u001b[39;49m\u001b[43m)\u001b[49m)\n",
      "Cell \u001b[1;32mIn[14], line 6\u001b[0m, in \u001b[0;36mlastRemaining\u001b[1;34m(n)\u001b[0m\n\u001b[0;32m      4\u001b[0m start, end \u001b[38;5;241m=\u001b[39m \u001b[38;5;241m0\u001b[39m, n \u001b[38;5;241m-\u001b[39m \u001b[38;5;241m1\u001b[39m\n\u001b[0;32m      5\u001b[0m \u001b[38;5;28;01mwhile\u001b[39;00m start \u001b[38;5;241m!=\u001b[39m end:\n\u001b[1;32m----> 6\u001b[0m     \u001b[38;5;28;01mif\u001b[39;00m left_to_right:\n\u001b[0;32m      7\u001b[0m         start \u001b[38;5;241m+\u001b[39m\u001b[38;5;241m=\u001b[39m \u001b[38;5;241m2\u001b[39m\n\u001b[0;32m      8\u001b[0m         end \u001b[38;5;241m-\u001b[39m\u001b[38;5;241m=\u001b[39m \u001b[38;5;241m1\u001b[39m\n",
      "\u001b[1;31mKeyboardInterrupt\u001b[0m: "
     ]
    }
   ],
   "source": [
    "def lastRemaining(n):\n",
    "    arr = list(range(1, n + 1))\n",
    "    left_to_right = True\n",
    "    start, end = 0, n - 1\n",
    "    while start != end:\n",
    "        if left_to_right:\n",
    "            start += 2\n",
    "            end -= 1\n",
    "        else:\n",
    "            start += 1\n",
    "            end -= 2\n",
    "        left_to_right = not left_to_right\n",
    "    \n",
    "    return arr[start]\n",
    "print(lastRemaining(9))\n"
   ]
  },
  {
   "cell_type": "markdown",
   "id": "98b89799",
   "metadata": {},
   "source": [
    "<aside>\n",
    "💡 **Question 3**\n",
    "\n",
    "****Given a set represented as a string, write a recursive code to print all subsets of it. The subsets can be printed in any order.\n",
    "\n",
    "**Example 1:**\n",
    "\n",
    "Input :  set = “abc”\n",
    "\n",
    "Output : { “”, “a”, “b”, “c”, “ab”, “ac”, “bc”, “abc”}\n",
    "\n",
    "**Example 2:**\n",
    "\n",
    "Input : set = “abcd”\n",
    "\n",
    "Output : { “”, “a” ,”ab” ,”abc” ,”abcd”, “abd” ,”ac” ,”acd”, “ad” ,”b”, “bc” ,”bcd” ,”bd” ,”c” ,”cd” ,”d” }\n",
    "\n",
    "</aside>"
   ]
  },
  {
   "cell_type": "code",
   "execution_count": 16,
   "id": "3df53477",
   "metadata": {},
   "outputs": [
    {
     "name": "stdout",
     "output_type": "stream",
     "text": [
      "['abc', 'ab', 'ac', 'a', 'bc', 'b', 'c', '']\n",
      "['abcd', 'abc', 'abd', 'ab', 'acd', 'ac', 'ad', 'a', 'bcd', 'bc', 'bd', 'b', 'cd', 'c', 'd', '']\n"
     ]
    }
   ],
   "source": [
    "def subsets(set):\n",
    "    subsets = []\n",
    "    \n",
    "    def generateSubsets(set, current, index):\n",
    "        if index == len(set):\n",
    "            subsets.append(current)\n",
    "            return\n",
    "        \n",
    "        generateSubsets(set, current + set[index], index + 1)  # Include the character at the current index\n",
    "        generateSubsets(set, current, index + 1)  # Exclude the character at the current index\n",
    "    \n",
    "    generateSubsets(set, '', 0)\n",
    "    return subsets\n",
    "\n",
    "print(subsets(\"abc\"))   \n",
    "print(subsets(\"abcd\")) "
   ]
  },
  {
   "cell_type": "markdown",
   "id": "302519e7",
   "metadata": {},
   "source": [
    "<aside>\n",
    "💡 **Question 4**\n",
    "\n",
    "Given a string calculate length of the string using recursion.\n",
    "\n",
    "**Examples:**\n",
    "Input : str = \"abcd\"\n",
    "Output :4\n",
    "\n",
    "Input : str = \"GEEKSFORGEEKS\"\n",
    "Output :13\n",
    "</aside>"
   ]
  },
  {
   "cell_type": "code",
   "execution_count": 28,
   "id": "fc60d6ed",
   "metadata": {},
   "outputs": [
    {
     "name": "stdout",
     "output_type": "stream",
     "text": [
      "0\n",
      "1\n",
      "5\n",
      "11\n"
     ]
    }
   ],
   "source": [
    "def calculateLength(s, index=0):\n",
    "    if index == len(s):\n",
    "        return 0\n",
    "    return 1 + calculateLength(s, index + 1)\n",
    "print(calculateLength(\"\"))           \n",
    "print(calculateLength(\"a\"))          \n",
    "print(calculateLength(\"hello\"))       \n",
    "print(calculateLength(\"programming\"))  \n",
    "  "
   ]
  },
  {
   "cell_type": "markdown",
   "id": "617bba4e",
   "metadata": {},
   "source": [
    "<aside>\n",
    "💡 **Question 5**\n",
    "\n",
    "We are given a string S, we need to find count of all contiguous substrings starting and ending with same character.\n",
    "\n",
    "Examples :\n",
    "    Input  : S = \"abcab\"\n",
    "Output : 7\n",
    "There are 15 substrings of \"abcab\"\n",
    "a, ab, abc, abca, abcab, b, bc, bca\n",
    "bcab, c, ca, cab, a, ab, b\n",
    "Out of the above substrings, there\n",
    "are 7 substrings : a, abca, b, bcab,\n",
    "c, a and b.\n",
    "\n",
    "Input  : S = \"aba\"\n",
    "Output : 4\n",
    "The substrings are a, b, a and aba\n",
    "\n",
    "</aside>"
   ]
  },
  {
   "cell_type": "code",
   "execution_count": 41,
   "id": "3874258a",
   "metadata": {},
   "outputs": [
    {
     "name": "stdout",
     "output_type": "stream",
     "text": [
      "5\n",
      "4\n"
     ]
    }
   ],
   "source": [
    "def countSubstrings(S):\n",
    "    count = 0\n",
    "    for i in range(len(S)):\n",
    "        left = i\n",
    "        right = i\n",
    "        while left >= 0 and right < len(S) and S[left] == S[right]:\n",
    "            count += 1\n",
    "            left -= 1\n",
    "            right += 1\n",
    "    return count\n",
    "\n",
    "print(countSubstrings(\"abcab\"))  \n",
    "print(countSubstrings(\"aba\"))   "
   ]
  },
  {
   "cell_type": "markdown",
   "id": "30a6db60",
   "metadata": {},
   "source": [
    "<aside>\n",
    "💡 **Question 6**\n",
    "\n",
    "The [tower of Hanoi](https://en.wikipedia.org/wiki/Tower_of_Hanoi) is a famous puzzle where we have three rods and **N** disks. The objective of the puzzle is to move the entire stack to another rod. You are given the number of discs **N**. Initially, these discs are in the rod 1. You need to print all the steps of discs movement so that all the discs reach the 3rd rod. Also, you need to find the total moves.**Note:** The discs are arranged such that the **top disc is numbered 1** and the **bottom-most disc is numbered N**. Also, all the discs have **different sizes** and a bigger disc **cannot** be put on the top of a smaller disc. Refer the provided link to get a better clarity about the puzzle.\n",
    "\n",
    "**Example 1:**\n",
    "Input:\n",
    "N = 2\n",
    "Output:\n",
    "move disk 1 from rod 1 to rod 2\n",
    "move disk 2 from rod 1 to rod 3\n",
    "move disk 1 from rod 2 to rod 3\n",
    "3\n",
    "Explanation:For N=2 , steps will be\n",
    "as follows in the example and total\n",
    "3 steps will be taken.\n",
    "</aside>"
   ]
  },
  {
   "cell_type": "code",
   "execution_count": 50,
   "id": "72406a3b",
   "metadata": {},
   "outputs": [
    {
     "name": "stdout",
     "output_type": "stream",
     "text": [
      "move disk 1 from rod 1 to rod 2\n",
      "move disk 2 from rod 1 to rod 3\n",
      "move disk 1 from rod 2 to rod 3\n",
      "3\n"
     ]
    }
   ],
   "source": [
    "def towerOfHanoi(N, source, auxiliary, destination, moves):\n",
    "    if N == 1:\n",
    "        print(\"move disk\", N, \"from rod\", source, \"to rod\", destination)\n",
    "        return moves + 1\n",
    "\n",
    "    moves = towerOfHanoi(N - 1, source, destination, auxiliary, moves)\n",
    "    print(\"move disk\", N, \"from rod\", source, \"to rod\", destination)\n",
    "    moves += 1\n",
    "    moves = towerOfHanoi(N - 1, auxiliary, source, destination, moves)\n",
    "\n",
    "    return moves\n",
    "N = 2\n",
    "moves = towerOfHanoi(N, 1, 2, 3, 0)\n",
    "print(moves)\n"
   ]
  },
  {
   "cell_type": "markdown",
   "id": "d1b9f8b9",
   "metadata": {},
   "source": [
    "<aside>\n",
    "💡 **Question 7**\n",
    "\n",
    "Given a string **str**, the task is to print all the permutations of **str**. A **permutation** is an arrangement of all or part of a set of objects, with regard to the order of the arrangement. For instance, the words ‘bat’ and ‘tab’ represents two distinct permutation (or arrangements) of a similar three letter word.\n",
    "\n",
    "**Examples:**\n",
    "\n",
    "> Input: str = “cd”\n",
    "> \n",
    "> \n",
    "> **Output:** cd dc\n",
    "> \n",
    "> **Input:** str = “abb”\n",
    "> \n",
    "> **Output:** abb abb bab bba bab bba\n",
    "> \n",
    "</aside>"
   ]
  },
  {
   "cell_type": "code",
   "execution_count": 65,
   "id": "2bebb586",
   "metadata": {},
   "outputs": [
    {
     "name": "stdout",
     "output_type": "stream",
     "text": [
      "cd dc\n",
      "\n"
     ]
    }
   ],
   "source": [
    "def permutations(current, remaining, perms, visited):\n",
    "    if remaining == \"\":\n",
    "        perms.append(current)\n",
    "        return perms\n",
    "\n",
    "    for ch in remaining:\n",
    "        if ch not in visited:\n",
    "            visited.add(ch)\n",
    "            perms = permutations(current + ch, remaining.replace(ch, \"\", 1), perms, visited)\n",
    "            visited.remove(ch)\n",
    "    return perms\n",
    "\n",
    "str1 = \"cd\"\n",
    "perms1 = permutations(\"\", str1, [], set())\n",
    "print(*perms1)\n",
    "\n",
    "str2 = \"abb\"\n",
    "perms2 = permutations(\"\", str2, [], set())\n",
    "print(*perms2)\n",
    "\n"
   ]
  },
  {
   "cell_type": "markdown",
   "id": "48f48055",
   "metadata": {},
   "source": [
    "<aside>\n",
    "💡 **Question 8**\n",
    "\n",
    "Given a string, count total number of consonants in it. A consonant is an English alphabet character that is not vowel (a, e, i, o and u). Examples of constants are b, c, d, f, and g.\n",
    "\n",
    "**Examples :**\n",
    "    Input : abc de\n",
    "Output : 3\n",
    "There are three consonants b, c and d.\n",
    "\n",
    "Input : geeksforgeeks portal\n",
    "Output : 12\n",
    "\n",
    "</aside>"
   ]
  },
  {
   "cell_type": "code",
   "execution_count": 73,
   "id": "f6a77251",
   "metadata": {},
   "outputs": [
    {
     "name": "stdout",
     "output_type": "stream",
     "text": [
      "7\n"
     ]
    }
   ],
   "source": [
    "def countConsonants(string):\n",
    "    count = 0\n",
    "    vowels = 'aeiou'\n",
    "    string = string.lower()  # Convert to lowercase to handle both cases\n",
    "    for ch in string:\n",
    "        if ch.isalpha() and ch not in vowels:\n",
    "            count += 1\n",
    "    return count\n",
    "\n",
    "string = \"Hello World\"\n",
    "print(countConsonants(string))  # Output: 7\n"
   ]
  },
  {
   "cell_type": "code",
   "execution_count": null,
   "id": "3def7a22",
   "metadata": {},
   "outputs": [],
   "source": []
  },
  {
   "cell_type": "code",
   "execution_count": null,
   "id": "fdd42dfd",
   "metadata": {},
   "outputs": [],
   "source": []
  }
 ],
 "metadata": {
  "kernelspec": {
   "display_name": "Python 3 (ipykernel)",
   "language": "python",
   "name": "python3"
  },
  "language_info": {
   "codemirror_mode": {
    "name": "ipython",
    "version": 3
   },
   "file_extension": ".py",
   "mimetype": "text/x-python",
   "name": "python",
   "nbconvert_exporter": "python",
   "pygments_lexer": "ipython3",
   "version": "3.10.9"
  }
 },
 "nbformat": 4,
 "nbformat_minor": 5
}
